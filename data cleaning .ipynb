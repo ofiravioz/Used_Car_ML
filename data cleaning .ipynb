{
 "cells": [
  {
   "cell_type": "code",
   "execution_count": 1,
   "metadata": {},
   "outputs": [],
   "source": [
    "from bs4 import BeautifulSoup\n",
    "import os\n",
    "import pandas as pd\n",
    "import requests\n",
    "import json\n",
    "import random\n",
    "import warnings\n",
    "import time\n",
    "import numpy as np\n",
    "import seaborn as sns\n",
    "from scipy.stats import chi2_contingency\n",
    "import plotly.graph_objects as go\n",
    "import plotly.express as px\n",
    "import matplotlib as mpl\n",
    "from matplotlib import pyplot as plt\n",
    "%matplotlib inline\n",
    "import warnings\n",
    "warnings.filterwarnings(\"ignore\")"
   ]
  },
  {
   "cell_type": "code",
   "execution_count": 2,
   "metadata": {
    "scrolled": false
   },
   "outputs": [
    {
     "data": {
      "text/html": [
       "<div>\n",
       "<style scoped>\n",
       "    .dataframe tbody tr th:only-of-type {\n",
       "        vertical-align: middle;\n",
       "    }\n",
       "\n",
       "    .dataframe tbody tr th {\n",
       "        vertical-align: top;\n",
       "    }\n",
       "\n",
       "    .dataframe thead th {\n",
       "        text-align: right;\n",
       "    }\n",
       "</style>\n",
       "<table border=\"1\" class=\"dataframe\">\n",
       "  <thead>\n",
       "    <tr style=\"text-align: right;\">\n",
       "      <th></th>\n",
       "      <th>modle</th>\n",
       "      <th>price</th>\n",
       "      <th>kilometers</th>\n",
       "      <th>stick</th>\n",
       "      <th>engine</th>\n",
       "      <th>year</th>\n",
       "      <th>hand</th>\n",
       "      <th>last_owner</th>\n",
       "      <th>curr_owner</th>\n",
       "      <th>city</th>\n",
       "      <th>car_id</th>\n",
       "    </tr>\n",
       "  </thead>\n",
       "  <tbody>\n",
       "    <tr>\n",
       "      <th>0</th>\n",
       "      <td>רכב פרטי, אאודי A4</td>\n",
       "      <td>40,000 ₪</td>\n",
       "      <td>220000</td>\n",
       "      <td>ידנית</td>\n",
       "      <td>1984</td>\n",
       "      <td>2005</td>\n",
       "      <td>4</td>\n",
       "      <td>פרטית</td>\n",
       "      <td>פרטית</td>\n",
       "      <td>אזור באר שבע והסביבה</td>\n",
       "      <td>2230947</td>\n",
       "    </tr>\n",
       "    <tr>\n",
       "      <th>1</th>\n",
       "      <td>רכב פרטי, אאודי A4</td>\n",
       "      <td>20,900 ₪</td>\n",
       "      <td>131000</td>\n",
       "      <td>אוטומטית</td>\n",
       "      <td>1984</td>\n",
       "      <td>2006</td>\n",
       "      <td>2</td>\n",
       "      <td>פרטית</td>\n",
       "      <td>פרטית</td>\n",
       "      <td>אזור באר שבע והסביבה</td>\n",
       "      <td>2234559</td>\n",
       "    </tr>\n",
       "    <tr>\n",
       "      <th>2</th>\n",
       "      <td>רכב פרטי, אאודי A6</td>\n",
       "      <td>21,999 ₪</td>\n",
       "      <td>200</td>\n",
       "      <td>אוטומטית</td>\n",
       "      <td>3123</td>\n",
       "      <td>2006</td>\n",
       "      <td>3</td>\n",
       "      <td>פרטית</td>\n",
       "      <td>פרטית</td>\n",
       "      <td>אזור באר שבע והסביבה</td>\n",
       "      <td>2247068</td>\n",
       "    </tr>\n",
       "    <tr>\n",
       "      <th>3</th>\n",
       "      <td>רכב פרטי, אאודי A4</td>\n",
       "      <td>38,000 ₪</td>\n",
       "      <td>195000</td>\n",
       "      <td>אוטומטית</td>\n",
       "      <td>1984</td>\n",
       "      <td>2006</td>\n",
       "      <td>4</td>\n",
       "      <td>פרטית</td>\n",
       "      <td>פרטית</td>\n",
       "      <td>אזור פתח תקוה והסביבה</td>\n",
       "      <td>2254306</td>\n",
       "    </tr>\n",
       "    <tr>\n",
       "      <th>4</th>\n",
       "      <td>רכב פרטי, אאודי A4</td>\n",
       "      <td>5,000 ₪</td>\n",
       "      <td>218073</td>\n",
       "      <td>אוטומטית</td>\n",
       "      <td>1781</td>\n",
       "      <td>2006</td>\n",
       "      <td>3</td>\n",
       "      <td>פרטית</td>\n",
       "      <td>פרטית</td>\n",
       "      <td>אזור רמלה - לוד</td>\n",
       "      <td>2237862</td>\n",
       "    </tr>\n",
       "    <tr>\n",
       "      <th>...</th>\n",
       "      <td>...</td>\n",
       "      <td>...</td>\n",
       "      <td>...</td>\n",
       "      <td>...</td>\n",
       "      <td>...</td>\n",
       "      <td>...</td>\n",
       "      <td>...</td>\n",
       "      <td>...</td>\n",
       "      <td>...</td>\n",
       "      <td>...</td>\n",
       "      <td>...</td>\n",
       "    </tr>\n",
       "    <tr>\n",
       "      <th>10408</th>\n",
       "      <td>רכב פרטי, רנו מגאן</td>\n",
       "      <td>102,000 ₪</td>\n",
       "      <td>28000</td>\n",
       "      <td>אוטומטית</td>\n",
       "      <td>1332</td>\n",
       "      <td>2019</td>\n",
       "      <td>1</td>\n",
       "      <td>4/2022</td>\n",
       "      <td>פרטית</td>\n",
       "      <td>אזור עכו - נהריה</td>\n",
       "      <td>2252687</td>\n",
       "    </tr>\n",
       "    <tr>\n",
       "      <th>10409</th>\n",
       "      <td>רכב פרטי, רנו מגאן</td>\n",
       "      <td>98,000 ₪</td>\n",
       "      <td>60000</td>\n",
       "      <td>אוטומטית</td>\n",
       "      <td>1332</td>\n",
       "      <td>2019</td>\n",
       "      <td>1</td>\n",
       "      <td>5/2022</td>\n",
       "      <td>פרטית</td>\n",
       "      <td>אזור חיפה וחוף הכרמל</td>\n",
       "      <td>2252117</td>\n",
       "    </tr>\n",
       "    <tr>\n",
       "      <th>10410</th>\n",
       "      <td>רכב פרטי, רנו מגאן</td>\n",
       "      <td>94,000 ₪</td>\n",
       "      <td>40000</td>\n",
       "      <td>אוטומטית</td>\n",
       "      <td>1332</td>\n",
       "      <td>2019</td>\n",
       "      <td>1</td>\n",
       "      <td>לא</td>\n",
       "      <td>פרטית</td>\n",
       "      <td>אזור ירושלים והסביבה</td>\n",
       "      <td>2137748</td>\n",
       "    </tr>\n",
       "    <tr>\n",
       "      <th>10411</th>\n",
       "      <td>רכב פרטי, רנו מגאן</td>\n",
       "      <td>לא צוין מחיר</td>\n",
       "      <td>35000</td>\n",
       "      <td>אוטומטית</td>\n",
       "      <td>1461</td>\n",
       "      <td>2019</td>\n",
       "      <td>2</td>\n",
       "      <td>פרטית</td>\n",
       "      <td>פרטית</td>\n",
       "      <td>אזור יישובי השומרון</td>\n",
       "      <td>2254705</td>\n",
       "    </tr>\n",
       "    <tr>\n",
       "      <th>10412</th>\n",
       "      <td>רכב פרטי, רנו מגאן</td>\n",
       "      <td>לא צוין מחיר</td>\n",
       "      <td>23000</td>\n",
       "      <td>אוטומטית</td>\n",
       "      <td>1461</td>\n",
       "      <td>2020</td>\n",
       "      <td>1</td>\n",
       "      <td>לא</td>\n",
       "      <td>פרטית</td>\n",
       "      <td>אזור נתניה והסביבה</td>\n",
       "      <td>2232104</td>\n",
       "    </tr>\n",
       "  </tbody>\n",
       "</table>\n",
       "<p>10413 rows × 11 columns</p>\n",
       "</div>"
      ],
      "text/plain": [
       "                                      modle         price  kilometers  \\\n",
       "0                רכב פרטי, אאודי A4              40,000 ₪      220000   \n",
       "1                רכב פרטי, אאודי A4              20,900 ₪      131000   \n",
       "2                רכב פרטי, אאודי A6              21,999 ₪         200   \n",
       "3                רכב פרטי, אאודי A4              38,000 ₪      195000   \n",
       "4                רכב פרטי, אאודי A4               5,000 ₪      218073   \n",
       "...                                     ...           ...         ...   \n",
       "10408            רכב פרטי, רנו מגאן             102,000 ₪       28000   \n",
       "10409            רכב פרטי, רנו מגאן              98,000 ₪       60000   \n",
       "10410            רכב פרטי, רנו מגאן              94,000 ₪       40000   \n",
       "10411            רכב פרטי, רנו מגאן          לא צוין מחיר       35000   \n",
       "10412            רכב פרטי, רנו מגאן          לא צוין מחיר       23000   \n",
       "\n",
       "           stick  engine  year  hand last_owner curr_owner  \\\n",
       "0         ידנית     1984  2005     4    פרטית       פרטית    \n",
       "1      אוטומטית     1984  2006     2    פרטית       פרטית    \n",
       "2      אוטומטית     3123  2006     3    פרטית       פרטית    \n",
       "3      אוטומטית     1984  2006     4    פרטית       פרטית    \n",
       "4      אוטומטית     1781  2006     3    פרטית       פרטית    \n",
       "...          ...     ...   ...   ...        ...        ...   \n",
       "10408  אוטומטית     1332  2019     1    4/2022      פרטית    \n",
       "10409  אוטומטית     1332  2019     1    5/2022      פרטית    \n",
       "10410  אוטומטית     1332  2019     1        לא      פרטית    \n",
       "10411  אוטומטית     1461  2019     2    פרטית       פרטית    \n",
       "10412  אוטומטית     1461  2020     1        לא      פרטית    \n",
       "\n",
       "                                city   car_id  \n",
       "0               אזור באר שבע והסביבה  2230947  \n",
       "1               אזור באר שבע והסביבה  2234559  \n",
       "2               אזור באר שבע והסביבה  2247068  \n",
       "3              אזור פתח תקוה והסביבה  2254306  \n",
       "4                    אזור רמלה - לוד  2237862  \n",
       "...                              ...      ...  \n",
       "10408               אזור עכו - נהריה  2252687  \n",
       "10409           אזור חיפה וחוף הכרמל  2252117  \n",
       "10410           אזור ירושלים והסביבה  2137748  \n",
       "10411            אזור יישובי השומרון  2254705  \n",
       "10412             אזור נתניה והסביבה  2232104  \n",
       "\n",
       "[10413 rows x 11 columns]"
      ]
     },
     "execution_count": 2,
     "metadata": {},
     "output_type": "execute_result"
    }
   ],
   "source": [
    "df = pd.read_csv (r'D:\\cars.csv')\n",
    "df = df.drop('Unnamed: 0', 1)\n",
    "df= df.rename(columns = {'kilomaters':'kilometers'}, inplace = False)\n",
    "df"
   ]
  },
  {
   "cell_type": "code",
   "execution_count": null,
   "metadata": {},
   "outputs": [],
   "source": [
    "duplicate=df2[df2.duplicated(['car_id'])]\n",
    "duplicate"
   ]
  },
  {
   "cell_type": "markdown",
   "metadata": {},
   "source": [
    "delete empty cells"
   ]
  },
  {
   "cell_type": "code",
   "execution_count": 3,
   "metadata": {},
   "outputs": [],
   "source": [
    "df=df.dropna(how='any')\n",
    "df = df.replace('\\n','', regex=True)"
   ]
  },
  {
   "cell_type": "markdown",
   "metadata": {},
   "source": [
    "delete rows with no price"
   ]
  },
  {
   "cell_type": "code",
   "execution_count": 4,
   "metadata": {
    "scrolled": false
   },
   "outputs": [],
   "source": [
    "index_names = df[ df['price'] == 'לא צוין מחיר' ].index\n",
    "df.drop(index_names, inplace = True)"
   ]
  },
  {
   "cell_type": "markdown",
   "metadata": {},
   "source": [
    "change all last owners on 1 hand cars to אין"
   ]
  },
  {
   "cell_type": "code",
   "execution_count": 5,
   "metadata": {},
   "outputs": [
    {
     "data": {
      "text/plain": [
       "Int64Index([   23,    36,    68,    90,    96,   106,   109,   124,   163,\n",
       "              167,\n",
       "            ...\n",
       "            10400, 10401, 10402, 10403, 10404, 10405, 10406, 10408, 10409,\n",
       "            10410],\n",
       "           dtype='int64', length=1717)"
      ]
     },
     "execution_count": 5,
     "metadata": {},
     "output_type": "execute_result"
    }
   ],
   "source": [
    "index_names = df [df['hand'] == 1 ].index\n",
    "index_names"
   ]
  },
  {
   "cell_type": "code",
   "execution_count": 6,
   "metadata": {
    "scrolled": true
   },
   "outputs": [],
   "source": [
    "df.loc[index_names,'last_owner'] = 'אין'"
   ]
  },
  {
   "cell_type": "raw",
   "metadata": {},
   "source": [
    "remove all ads that are not a private or leased car on current owner"
   ]
  },
  {
   "cell_type": "code",
   "execution_count": 7,
   "metadata": {},
   "outputs": [
    {
     "name": "stdout",
     "output_type": "stream",
     "text": [
      "121\n"
     ]
    }
   ],
   "source": [
    "check_cur=[]\n",
    "for i in df.curr_owner:\n",
    "    if 'פרטית' not in i:\n",
    "        if 'ליסינג 'not in i:\n",
    "                check_cur.append(i)\n",
    "print(len(check_cur))"
   ]
  },
  {
   "cell_type": "code",
   "execution_count": 8,
   "metadata": {
    "scrolled": true
   },
   "outputs": [],
   "source": [
    "df = df[~df.curr_owner.str.contains('|'.join(check_cur))]\n"
   ]
  },
  {
   "cell_type": "code",
   "execution_count": 9,
   "metadata": {},
   "outputs": [
    {
     "name": "stdout",
     "output_type": "stream",
     "text": [
      "true\n"
     ]
    }
   ],
   "source": [
    "#test\n",
    "for i in df.curr_owner:\n",
    "    if 'פרטית' not in i:\n",
    "        if 'ליסינג 'not in i:\n",
    "                print('false')\n",
    "print('true')"
   ]
  },
  {
   "cell_type": "markdown",
   "metadata": {},
   "source": [
    "remove all ads that are not a private or leased car on last owner"
   ]
  },
  {
   "cell_type": "code",
   "execution_count": 10,
   "metadata": {
    "scrolled": true
   },
   "outputs": [
    {
     "name": "stdout",
     "output_type": "stream",
     "text": [
      "687\n"
     ]
    }
   ],
   "source": [
    "check_last=[]\n",
    "for i in df.last_owner:\n",
    "    if 'פרטית' not in i:\n",
    "        if 'ליסינג 'not in i:\n",
    "            if 'אין' not in i:\n",
    "                check_last.append(i)\n",
    "print(len(check_last))"
   ]
  },
  {
   "cell_type": "code",
   "execution_count": 11,
   "metadata": {
    "scrolled": true
   },
   "outputs": [],
   "source": [
    "df = df[~df.last_owner.str.contains('|'.join(check_last))]"
   ]
  },
  {
   "cell_type": "code",
   "execution_count": 12,
   "metadata": {
    "scrolled": true
   },
   "outputs": [
    {
     "name": "stdout",
     "output_type": "stream",
     "text": [
      "true\n"
     ]
    }
   ],
   "source": [
    "#test\n",
    "for i in df.last_owner:\n",
    "    if 'פרטית' not in i:\n",
    "        if 'ליסינג 'not in i:\n",
    "            if 'אין' not in i:\n",
    "                print('false')\n",
    "print('true')"
   ]
  },
  {
   "cell_type": "markdown",
   "metadata": {},
   "source": [
    "change all gears that are not stick to auto"
   ]
  },
  {
   "cell_type": "code",
   "execution_count": 13,
   "metadata": {},
   "outputs": [
    {
     "name": "stdout",
     "output_type": "stream",
     "text": [
      "277\n"
     ]
    }
   ],
   "source": [
    "check_stick=[]\n",
    "for i in df.stick:\n",
    "    if 'אוטומטית' not in i:\n",
    "        if 'ידנית 'not in i:\n",
    "            check_stick.append(i)\n",
    "print(len(check_stick))"
   ]
  },
  {
   "cell_type": "code",
   "execution_count": 14,
   "metadata": {},
   "outputs": [],
   "source": [
    "df = df.replace(check_stick,'אוטומטית', regex=True)"
   ]
  },
  {
   "cell_type": "code",
   "execution_count": 15,
   "metadata": {
    "scrolled": true
   },
   "outputs": [
    {
     "name": "stdout",
     "output_type": "stream",
     "text": [
      "true\n"
     ]
    }
   ],
   "source": [
    "#test\n",
    "for i in df.stick:\n",
    "    if 'אוטומטית' not in i:\n",
    "        if 'ידנית 'not in i:\n",
    "            print('false')\n",
    "print('true')"
   ]
  },
  {
   "cell_type": "code",
   "execution_count": 16,
   "metadata": {
    "scrolled": false
   },
   "outputs": [
    {
     "data": {
      "text/html": [
       "<div>\n",
       "<style scoped>\n",
       "    .dataframe tbody tr th:only-of-type {\n",
       "        vertical-align: middle;\n",
       "    }\n",
       "\n",
       "    .dataframe tbody tr th {\n",
       "        vertical-align: top;\n",
       "    }\n",
       "\n",
       "    .dataframe thead th {\n",
       "        text-align: right;\n",
       "    }\n",
       "</style>\n",
       "<table border=\"1\" class=\"dataframe\">\n",
       "  <thead>\n",
       "    <tr style=\"text-align: right;\">\n",
       "      <th></th>\n",
       "      <th>modle</th>\n",
       "      <th>price</th>\n",
       "      <th>kilometers</th>\n",
       "      <th>stick</th>\n",
       "      <th>engine</th>\n",
       "      <th>year</th>\n",
       "      <th>hand</th>\n",
       "      <th>last_owner</th>\n",
       "      <th>curr_owner</th>\n",
       "      <th>city</th>\n",
       "      <th>car_id</th>\n",
       "    </tr>\n",
       "  </thead>\n",
       "  <tbody>\n",
       "    <tr>\n",
       "      <th>0</th>\n",
       "      <td>אאודי A4</td>\n",
       "      <td>40,000</td>\n",
       "      <td>220000</td>\n",
       "      <td>ידנית</td>\n",
       "      <td>1984</td>\n",
       "      <td>2005</td>\n",
       "      <td>4</td>\n",
       "      <td>פרטית</td>\n",
       "      <td>פרטית</td>\n",
       "      <td>אזור באר שבע והסביבה</td>\n",
       "      <td>2230947</td>\n",
       "    </tr>\n",
       "    <tr>\n",
       "      <th>1</th>\n",
       "      <td>אאודי A4</td>\n",
       "      <td>20,900</td>\n",
       "      <td>131000</td>\n",
       "      <td>אוטומטית</td>\n",
       "      <td>1984</td>\n",
       "      <td>2006</td>\n",
       "      <td>2</td>\n",
       "      <td>פרטית</td>\n",
       "      <td>פרטית</td>\n",
       "      <td>אזור באר שבע והסביבה</td>\n",
       "      <td>2234559</td>\n",
       "    </tr>\n",
       "    <tr>\n",
       "      <th>2</th>\n",
       "      <td>אאודי A6</td>\n",
       "      <td>21,999</td>\n",
       "      <td>200</td>\n",
       "      <td>אוטומטית</td>\n",
       "      <td>3123</td>\n",
       "      <td>2006</td>\n",
       "      <td>3</td>\n",
       "      <td>פרטית</td>\n",
       "      <td>פרטית</td>\n",
       "      <td>אזור באר שבע והסביבה</td>\n",
       "      <td>2247068</td>\n",
       "    </tr>\n",
       "    <tr>\n",
       "      <th>3</th>\n",
       "      <td>אאודי A4</td>\n",
       "      <td>38,000</td>\n",
       "      <td>195000</td>\n",
       "      <td>אוטומטית</td>\n",
       "      <td>1984</td>\n",
       "      <td>2006</td>\n",
       "      <td>4</td>\n",
       "      <td>פרטית</td>\n",
       "      <td>פרטית</td>\n",
       "      <td>אזור פתח תקוה והסביבה</td>\n",
       "      <td>2254306</td>\n",
       "    </tr>\n",
       "    <tr>\n",
       "      <th>4</th>\n",
       "      <td>אאודי A4</td>\n",
       "      <td>5,000</td>\n",
       "      <td>218073</td>\n",
       "      <td>אוטומטית</td>\n",
       "      <td>1781</td>\n",
       "      <td>2006</td>\n",
       "      <td>3</td>\n",
       "      <td>פרטית</td>\n",
       "      <td>פרטית</td>\n",
       "      <td>אזור רמלה - לוד</td>\n",
       "      <td>2237862</td>\n",
       "    </tr>\n",
       "    <tr>\n",
       "      <th>...</th>\n",
       "      <td>...</td>\n",
       "      <td>...</td>\n",
       "      <td>...</td>\n",
       "      <td>...</td>\n",
       "      <td>...</td>\n",
       "      <td>...</td>\n",
       "      <td>...</td>\n",
       "      <td>...</td>\n",
       "      <td>...</td>\n",
       "      <td>...</td>\n",
       "      <td>...</td>\n",
       "    </tr>\n",
       "    <tr>\n",
       "      <th>10406</th>\n",
       "      <td>רנו מגאן</td>\n",
       "      <td>85,000</td>\n",
       "      <td>92500</td>\n",
       "      <td>אוטומטית</td>\n",
       "      <td>1461</td>\n",
       "      <td>2019</td>\n",
       "      <td>1</td>\n",
       "      <td>אין</td>\n",
       "      <td>פרטית</td>\n",
       "      <td>אזור נס ציונה - רחובות</td>\n",
       "      <td>2254660</td>\n",
       "    </tr>\n",
       "    <tr>\n",
       "      <th>10407</th>\n",
       "      <td>רנו מגאן</td>\n",
       "      <td>95,000</td>\n",
       "      <td>28000</td>\n",
       "      <td>אוטומטית</td>\n",
       "      <td>1461</td>\n",
       "      <td>2020</td>\n",
       "      <td>3</td>\n",
       "      <td>פרטית</td>\n",
       "      <td>פרטית</td>\n",
       "      <td>אזור נס ציונה - רחובות</td>\n",
       "      <td>2230624</td>\n",
       "    </tr>\n",
       "    <tr>\n",
       "      <th>10408</th>\n",
       "      <td>רנו מגאן</td>\n",
       "      <td>102,000</td>\n",
       "      <td>28000</td>\n",
       "      <td>אוטומטית</td>\n",
       "      <td>1332</td>\n",
       "      <td>2019</td>\n",
       "      <td>1</td>\n",
       "      <td>אין</td>\n",
       "      <td>פרטית</td>\n",
       "      <td>אזור עכו - נהריה</td>\n",
       "      <td>2252687</td>\n",
       "    </tr>\n",
       "    <tr>\n",
       "      <th>10409</th>\n",
       "      <td>רנו מגאן</td>\n",
       "      <td>98,000</td>\n",
       "      <td>60000</td>\n",
       "      <td>אוטומטית</td>\n",
       "      <td>1332</td>\n",
       "      <td>2019</td>\n",
       "      <td>1</td>\n",
       "      <td>אין</td>\n",
       "      <td>פרטית</td>\n",
       "      <td>אזור חיפה וחוף הכרמל</td>\n",
       "      <td>2252117</td>\n",
       "    </tr>\n",
       "    <tr>\n",
       "      <th>10410</th>\n",
       "      <td>רנו מגאן</td>\n",
       "      <td>94,000</td>\n",
       "      <td>40000</td>\n",
       "      <td>אוטומטית</td>\n",
       "      <td>1332</td>\n",
       "      <td>2019</td>\n",
       "      <td>1</td>\n",
       "      <td>אין</td>\n",
       "      <td>פרטית</td>\n",
       "      <td>אזור ירושלים והסביבה</td>\n",
       "      <td>2137748</td>\n",
       "    </tr>\n",
       "  </tbody>\n",
       "</table>\n",
       "<p>8754 rows × 11 columns</p>\n",
       "</div>"
      ],
      "text/plain": [
       "                             modle    price  kilometers      stick  engine  \\\n",
       "0                 אאודי A4           40,000      220000     ידנית     1984   \n",
       "1                 אאודי A4           20,900      131000  אוטומטית     1984   \n",
       "2                 אאודי A6           21,999         200  אוטומטית     3123   \n",
       "3                 אאודי A4           38,000      195000  אוטומטית     1984   \n",
       "4                 אאודי A4            5,000      218073  אוטומטית     1781   \n",
       "...                            ...      ...         ...        ...     ...   \n",
       "10406             רנו מגאן           85,000       92500  אוטומטית     1461   \n",
       "10407             רנו מגאן           95,000       28000  אוטומטית     1461   \n",
       "10408             רנו מגאן          102,000       28000  אוטומטית     1332   \n",
       "10409             רנו מגאן           98,000       60000  אוטומטית     1332   \n",
       "10410             רנו מגאן           94,000       40000  אוטומטית     1332   \n",
       "\n",
       "       year  hand last_owner curr_owner                            city  \\\n",
       "0      2005     4    פרטית       פרטית             אזור באר שבע והסביבה   \n",
       "1      2006     2    פרטית       פרטית             אזור באר שבע והסביבה   \n",
       "2      2006     3    פרטית       פרטית             אזור באר שבע והסביבה   \n",
       "3      2006     4    פרטית       פרטית            אזור פתח תקוה והסביבה   \n",
       "4      2006     3    פרטית       פרטית                  אזור רמלה - לוד   \n",
       "...     ...   ...        ...        ...                             ...   \n",
       "10406  2019     1        אין     פרטית           אזור נס ציונה - רחובות   \n",
       "10407  2020     3    פרטית       פרטית           אזור נס ציונה - רחובות   \n",
       "10408  2019     1        אין     פרטית                 אזור עכו - נהריה   \n",
       "10409  2019     1        אין     פרטית             אזור חיפה וחוף הכרמל   \n",
       "10410  2019     1        אין     פרטית             אזור ירושלים והסביבה   \n",
       "\n",
       "        car_id  \n",
       "0      2230947  \n",
       "1      2234559  \n",
       "2      2247068  \n",
       "3      2254306  \n",
       "4      2237862  \n",
       "...        ...  \n",
       "10406  2254660  \n",
       "10407  2230624  \n",
       "10408  2252687  \n",
       "10409  2252117  \n",
       "10410  2137748  \n",
       "\n",
       "[8754 rows x 11 columns]"
      ]
     },
     "execution_count": 16,
     "metadata": {},
     "output_type": "execute_result"
    }
   ],
   "source": [
    "df = df.replace('\\xa0₪','', regex=True)\n",
    "df = df.replace('רכב פרטי,','', regex=True)\n",
    "df"
   ]
  },
  {
   "cell_type": "code",
   "execution_count": 17,
   "metadata": {},
   "outputs": [],
   "source": [
    "df['price'] = df['price'] .replace(',','', regex=True)\n"
   ]
  },
  {
   "cell_type": "code",
   "execution_count": 18,
   "metadata": {
    "scrolled": true
   },
   "outputs": [
    {
     "name": "stdout",
     "output_type": "stream",
     "text": [
      "true\n"
     ]
    }
   ],
   "source": [
    "#test years of all ads\n",
    "for i in df.year:\n",
    "    if(i<2000 or i>2021):\n",
    "        print('false')\n",
    "print( 'true')"
   ]
  },
  {
   "cell_type": "code",
   "execution_count": 19,
   "metadata": {},
   "outputs": [],
   "source": [
    "df.to_csv(r'D:\\cars.csv')"
   ]
  },
  {
   "cell_type": "markdown",
   "metadata": {},
   "source": []
  }
 ],
 "metadata": {
  "kernelspec": {
   "display_name": "Python 3",
   "language": "python",
   "name": "python3"
  },
  "language_info": {
   "codemirror_mode": {
    "name": "ipython",
    "version": 3
   },
   "file_extension": ".py",
   "mimetype": "text/x-python",
   "name": "python",
   "nbconvert_exporter": "python",
   "pygments_lexer": "ipython3",
   "version": "3.8.5"
  }
 },
 "nbformat": 4,
 "nbformat_minor": 4
}
